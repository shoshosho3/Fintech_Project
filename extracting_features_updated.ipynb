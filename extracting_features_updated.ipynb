{
 "cells": [
  {
   "metadata": {
    "ExecuteTime": {
     "end_time": "2024-08-06T08:26:55.782125Z",
     "start_time": "2024-08-06T08:26:55.770512Z"
    }
   },
   "cell_type": "code",
   "source": [
    "import pandas as pd\n",
    "import numpy as np\n",
    "from transformers import BertTokenizer, BertModel, RobertaTokenizer, RobertaModel, AutoTokenizer, AutoModel, pipeline\n",
    "import torch\n",
    "from tqdm import tqdm\n",
    "import re\n",
    "import math\n",
    "tqdm.pandas()"
   ],
   "id": "91748062e129957a",
   "outputs": [],
   "execution_count": 35
  },
  {
   "metadata": {
    "ExecuteTime": {
     "end_time": "2024-08-06T08:16:12.246298Z",
     "start_time": "2024-08-06T08:15:56.137966Z"
    }
   },
   "cell_type": "code",
   "source": [
    "# Load the data from data.xlsx\n",
    "data = pd.read_excel('final_data.xlsx')\n",
    "\n",
    "# getting the 'headline' column\n",
    "headlines = data['headline']"
   ],
   "id": "7feadb38f15dc6c5",
   "outputs": [],
   "execution_count": 11
  },
  {
   "metadata": {
    "ExecuteTime": {
     "end_time": "2024-08-06T08:16:16.541253Z",
     "start_time": "2024-08-06T08:16:14.418018Z"
    }
   },
   "cell_type": "code",
   "source": [
    "bert_tokenizer = BertTokenizer.from_pretrained('bert-base-uncased')\n",
    "bert_model = BertModel.from_pretrained('bert-base-uncased')\n",
    "\n",
    "roberta_tokenizer = RobertaTokenizer.from_pretrained('roberta-base')\n",
    "roberta_model = RobertaModel.from_pretrained('roberta-base')\n",
    "\n",
    "auto_tokenizer = AutoTokenizer.from_pretrained(\"chrommium/bert-base-multilingual-cased-finetuned-news-headlines\")\n",
    "auto_model = AutoModel.from_pretrained(\"chrommium/bert-base-multilingual-cased-finetuned-news-headlines\")"
   ],
   "id": "5e6fa4c401e41e33",
   "outputs": [
    {
     "name": "stderr",
     "output_type": "stream",
     "text": [
      "A parameter name that contains `beta` will be renamed internally to `bias`. Please use a different name to suppress this warning.\n",
      "A parameter name that contains `gamma` will be renamed internally to `weight`. Please use a different name to suppress this warning.\n",
      "A parameter name that contains `beta` will be renamed internally to `bias`. Please use a different name to suppress this warning.\n",
      "A parameter name that contains `gamma` will be renamed internally to `weight`. Please use a different name to suppress this warning.\n",
      "A parameter name that contains `beta` will be renamed internally to `bias`. Please use a different name to suppress this warning.\n",
      "A parameter name that contains `gamma` will be renamed internally to `weight`. Please use a different name to suppress this warning.\n",
      "A parameter name that contains `beta` will be renamed internally to `bias`. Please use a different name to suppress this warning.\n",
      "A parameter name that contains `gamma` will be renamed internally to `weight`. Please use a different name to suppress this warning.\n",
      "A parameter name that contains `beta` will be renamed internally to `bias`. Please use a different name to suppress this warning.\n",
      "A parameter name that contains `gamma` will be renamed internally to `weight`. Please use a different name to suppress this warning.\n",
      "A parameter name that contains `beta` will be renamed internally to `bias`. Please use a different name to suppress this warning.\n",
      "A parameter name that contains `gamma` will be renamed internally to `weight`. Please use a different name to suppress this warning.\n",
      "A parameter name that contains `beta` will be renamed internally to `bias`. Please use a different name to suppress this warning.\n",
      "A parameter name that contains `gamma` will be renamed internally to `weight`. Please use a different name to suppress this warning.\n",
      "A parameter name that contains `beta` will be renamed internally to `bias`. Please use a different name to suppress this warning.\n",
      "A parameter name that contains `gamma` will be renamed internally to `weight`. Please use a different name to suppress this warning.\n",
      "A parameter name that contains `beta` will be renamed internally to `bias`. Please use a different name to suppress this warning.\n",
      "A parameter name that contains `gamma` will be renamed internally to `weight`. Please use a different name to suppress this warning.\n",
      "A parameter name that contains `beta` will be renamed internally to `bias`. Please use a different name to suppress this warning.\n",
      "A parameter name that contains `gamma` will be renamed internally to `weight`. Please use a different name to suppress this warning.\n",
      "A parameter name that contains `beta` will be renamed internally to `bias`. Please use a different name to suppress this warning.\n",
      "A parameter name that contains `gamma` will be renamed internally to `weight`. Please use a different name to suppress this warning.\n",
      "A parameter name that contains `beta` will be renamed internally to `bias`. Please use a different name to suppress this warning.\n",
      "A parameter name that contains `gamma` will be renamed internally to `weight`. Please use a different name to suppress this warning.\n",
      "A parameter name that contains `beta` will be renamed internally to `bias`. Please use a different name to suppress this warning.\n",
      "A parameter name that contains `gamma` will be renamed internally to `weight`. Please use a different name to suppress this warning.\n",
      "A parameter name that contains `beta` will be renamed internally to `bias`. Please use a different name to suppress this warning.\n",
      "A parameter name that contains `gamma` will be renamed internally to `weight`. Please use a different name to suppress this warning.\n",
      "A parameter name that contains `beta` will be renamed internally to `bias`. Please use a different name to suppress this warning.\n",
      "A parameter name that contains `gamma` will be renamed internally to `weight`. Please use a different name to suppress this warning.\n",
      "A parameter name that contains `beta` will be renamed internally to `bias`. Please use a different name to suppress this warning.\n",
      "A parameter name that contains `gamma` will be renamed internally to `weight`. Please use a different name to suppress this warning.\n",
      "A parameter name that contains `beta` will be renamed internally to `bias`. Please use a different name to suppress this warning.\n",
      "A parameter name that contains `gamma` will be renamed internally to `weight`. Please use a different name to suppress this warning.\n",
      "A parameter name that contains `beta` will be renamed internally to `bias`. Please use a different name to suppress this warning.\n",
      "A parameter name that contains `gamma` will be renamed internally to `weight`. Please use a different name to suppress this warning.\n",
      "A parameter name that contains `beta` will be renamed internally to `bias`. Please use a different name to suppress this warning.\n",
      "A parameter name that contains `gamma` will be renamed internally to `weight`. Please use a different name to suppress this warning.\n",
      "A parameter name that contains `beta` will be renamed internally to `bias`. Please use a different name to suppress this warning.\n",
      "A parameter name that contains `gamma` will be renamed internally to `weight`. Please use a different name to suppress this warning.\n",
      "A parameter name that contains `beta` will be renamed internally to `bias`. Please use a different name to suppress this warning.\n",
      "A parameter name that contains `gamma` will be renamed internally to `weight`. Please use a different name to suppress this warning.\n",
      "A parameter name that contains `beta` will be renamed internally to `bias`. Please use a different name to suppress this warning.\n",
      "A parameter name that contains `gamma` will be renamed internally to `weight`. Please use a different name to suppress this warning.\n",
      "A parameter name that contains `beta` will be renamed internally to `bias`. Please use a different name to suppress this warning.\n",
      "A parameter name that contains `gamma` will be renamed internally to `weight`. Please use a different name to suppress this warning.\n",
      "A parameter name that contains `beta` will be renamed internally to `bias`. Please use a different name to suppress this warning.\n",
      "A parameter name that contains `gamma` will be renamed internally to `weight`. Please use a different name to suppress this warning.\n",
      "A parameter name that contains `beta` will be renamed internally to `bias`. Please use a different name to suppress this warning.\n",
      "A parameter name that contains `gamma` will be renamed internally to `weight`. Please use a different name to suppress this warning.\n",
      "A parameter name that contains `beta` will be renamed internally to `bias`. Please use a different name to suppress this warning.\n",
      "A parameter name that contains `gamma` will be renamed internally to `weight`. Please use a different name to suppress this warning.\n",
      "Some weights of RobertaModel were not initialized from the model checkpoint at roberta-base and are newly initialized: ['roberta.pooler.dense.bias', 'roberta.pooler.dense.weight']\n",
      "You should probably TRAIN this model on a down-stream task to be able to use it for predictions and inference.\n"
     ]
    }
   ],
   "execution_count": 12
  },
  {
   "metadata": {
    "ExecuteTime": {
     "end_time": "2024-08-06T08:16:24.795839Z",
     "start_time": "2024-08-06T08:16:17.414162Z"
    }
   },
   "cell_type": "code",
   "source": [
    "device = torch.device('mps')\n",
    "bert_model = bert_model.to(device)\n",
    "model_roberta = roberta_model.to(device)\n",
    "auto_model = auto_model.to(device)"
   ],
   "id": "62766ffdb66fc95f",
   "outputs": [],
   "execution_count": 13
  },
  {
   "metadata": {
    "ExecuteTime": {
     "end_time": "2024-08-06T08:16:26.537990Z",
     "start_time": "2024-08-06T08:16:26.531545Z"
    }
   },
   "cell_type": "code",
   "source": [
    "# setting embedding for empty headlines\n",
    "empty_bert_embedding = np.zeros((bert_model.config.hidden_size,))\n",
    "empty_roberta_embedding = np.zeros((roberta_model.config.hidden_size,))\n",
    "empty_auto_embedding = np.zeros((auto_model.config.hidden_size,))"
   ],
   "id": "c135331d1a8d0e14",
   "outputs": [],
   "execution_count": 14
  },
  {
   "metadata": {
    "ExecuteTime": {
     "end_time": "2024-08-06T08:28:55.029191Z",
     "start_time": "2024-08-06T08:28:55.024369Z"
    }
   },
   "cell_type": "code",
   "source": [
    "def get_embeddings(text, tokenizer, model, empty_embedding):\n",
    "    if type(text) == float and math.isnan(text):\n",
    "        return empty_embedding\n",
    "    inputs = tokenizer(text, return_tensors='pt', truncation=True, padding=True, max_length=50).to(device)\n",
    "    with torch.no_grad():\n",
    "        outputs = model(**inputs)\n",
    "    return outputs.last_hidden_state.mean(dim=1).cpu().numpy()"
   ],
   "id": "7b3876980c6e174d",
   "outputs": [],
   "execution_count": 38
  },
  {
   "metadata": {
    "ExecuteTime": {
     "end_time": "2024-08-06T09:56:00.829908Z",
     "start_time": "2024-08-06T08:30:02.080301Z"
    }
   },
   "cell_type": "code",
   "source": [
    "bert_embeddings = headlines.progress_apply(lambda x: get_embeddings(x, bert_tokenizer, bert_model, empty_bert_embedding))\n",
    "bert_embeddings_reshaped = np.vstack(bert_embeddings.values).reshape(bert_embeddings.shape[0], -1)\n",
    "bert_df = pd.DataFrame(bert_embeddings_reshaped, columns=[f'bert_{i}' for i in range(bert_embeddings_reshaped.shape[1])])\n",
    "\n",
    "roberta_embeddings = headlines.progress_apply(lambda x: get_embeddings(x, roberta_tokenizer, model_roberta, empty_roberta_embedding))\n",
    "roberta_embeddings_reshaped = np.vstack(roberta_embeddings.values).reshape(roberta_embeddings.shape[0], -1)\n",
    "roberta_df = pd.DataFrame(roberta_embeddings_reshaped, columns=[f'roberta_{i}' for i in range(roberta_embeddings_reshaped.shape[1])])\n",
    "\n",
    "auto_embeddings = headlines.progress_apply(lambda x: get_embeddings(x, auto_tokenizer, auto_model, empty_auto_embedding))\n",
    "auto_embeddings_reshaped = np.vstack(auto_embeddings.values).reshape(auto_embeddings.shape[0], -1)\n",
    "auto_df = pd.DataFrame(auto_embeddings_reshaped, columns=[f'auto_{i}' for i in range(auto_embeddings_reshaped.shape[1])])"
   ],
   "id": "53c6f4ee64909458",
   "outputs": [
    {
     "name": "stderr",
     "output_type": "stream",
     "text": [
      "100%|██████████| 541823/541823 [24:59<00:00, 361.38it/s]  \n",
      "100%|██████████| 541823/541823 [31:55<00:00, 282.80it/s]  \n",
      "100%|██████████| 541823/541823 [28:52<00:00, 312.79it/s]  \n"
     ]
    }
   ],
   "execution_count": 41
  },
  {
   "metadata": {
    "ExecuteTime": {
     "end_time": "2024-08-06T10:08:43.574101Z",
     "start_time": "2024-08-06T10:03:29.465694Z"
    }
   },
   "cell_type": "code",
   "source": [
    "bert_df.to_csv('final_bert_df.csv', index=False)\n",
    "roberta_df.to_csv('final_roberta_df.csv', index=False)\n",
    "auto_df.to_csv('final_auto_df.csv', index=False)"
   ],
   "id": "8c145fb21634751a",
   "outputs": [],
   "execution_count": 42
  },
  {
   "metadata": {
    "ExecuteTime": {
     "end_time": "2024-08-06T10:10:53.313883Z",
     "start_time": "2024-08-06T10:10:50.206418Z"
    }
   },
   "cell_type": "code",
   "source": [
    "bert_df_read = pd.read_csv('bert_df.csv')\n",
    "roberta_df_read = pd.read_csv('roberta_df.csv')\n",
    "auto_df_read = pd.read_csv('auto_df.csv')"
   ],
   "id": "30a0afc35344c26f",
   "outputs": [],
   "execution_count": 43
  },
  {
   "metadata": {
    "ExecuteTime": {
     "end_time": "2024-08-06T10:37:50.004055Z",
     "start_time": "2024-08-06T10:17:25.456210Z"
    }
   },
   "cell_type": "code",
   "source": [
    "# Sentiment analysis pipeline\n",
    "sentiment_pipeline = pipeline(\"sentiment-analysis\", device=device)\n",
    "\n",
    "\n",
    "def get_sentiment_score(text):\n",
    "    if type(text) == float and math.isnan(text):\n",
    "        return np.nan, np.nan\n",
    "    result = sentiment_pipeline(text)[0]\n",
    "    return result['label'], result['score']\n",
    "\n",
    "tqdm.pandas()\n",
    "data[['sentiment_label', 'sentiment_score']] = data['headline'].progress_apply(lambda x: pd.Series(get_sentiment_score(x)))"
   ],
   "id": "aafcdd4f4d4c3c8a",
   "outputs": [
    {
     "name": "stderr",
     "output_type": "stream",
     "text": [
      "No model was supplied, defaulted to distilbert/distilbert-base-uncased-finetuned-sst-2-english and revision af0f99b (https://huggingface.co/distilbert/distilbert-base-uncased-finetuned-sst-2-english).\n",
      "Using a pipeline without specifying a model name and revision in production is not recommended.\n",
      "100%|██████████| 541823/541823 [20:19<00:00, 444.30it/s]  \n"
     ]
    }
   ],
   "execution_count": 45
  },
  {
   "metadata": {
    "ExecuteTime": {
     "end_time": "2024-08-06T11:38:33.719404Z",
     "start_time": "2024-08-06T11:38:26.797161Z"
    }
   },
   "cell_type": "code",
   "source": [
    "bert_df_read['combined'] =  bert_df_read.apply(lambda row: row.values.tolist(), axis=1)\n",
    "roberta_df_read['combined'] =  roberta_df_read.apply(lambda row: row.values.tolist(), axis=1)\n",
    "auto_df_read['combined'] =  auto_df_read.apply(lambda row: row.values.tolist(), axis=1)"
   ],
   "id": "eee9d0bae982e537",
   "outputs": [],
   "execution_count": 46
  },
  {
   "metadata": {
    "ExecuteTime": {
     "end_time": "2024-08-06T11:44:16.917345Z",
     "start_time": "2024-08-06T11:44:16.813884Z"
    }
   },
   "cell_type": "code",
   "source": [
    "data['bert'] = bert_df_read['combined']\n",
    "data['roberta'] = roberta_df_read['combined']\n",
    "data['auto'] = auto_df_read['combined']"
   ],
   "id": "2d3448f997e2ce18",
   "outputs": [],
   "execution_count": 49
  },
  {
   "metadata": {
    "ExecuteTime": {
     "end_time": "2024-08-06T11:45:07.360392Z",
     "start_time": "2024-08-06T11:44:54.959097Z"
    }
   },
   "cell_type": "code",
   "source": "data.to_csv('final_data_with_features.csv', index=False)",
   "id": "d7067751ec0a5807",
   "outputs": [],
   "execution_count": 50
  },
  {
   "metadata": {
    "ExecuteTime": {
     "end_time": "2024-07-30T10:11:35.119779Z",
     "start_time": "2024-07-30T10:10:55.100593Z"
    }
   },
   "cell_type": "code",
   "source": [
    "def parse_combined_column(s):\n",
    "    return eval(s)\n",
    "\n",
    "df_read = pd.read_csv('data_with_features.csv', converters={'bert': parse_combined_column, 'auto': parse_combined_column, 'roberta': parse_combined_column})"
   ],
   "id": "ce54c3452b7b1514",
   "outputs": [],
   "execution_count": 55
  },
  {
   "metadata": {
    "ExecuteTime": {
     "end_time": "2024-07-30T10:11:39.517954Z",
     "start_time": "2024-07-30T10:11:39.432156Z"
    }
   },
   "cell_type": "code",
   "source": "df_read.head(10)",
   "id": "34239acd3fa13",
   "outputs": [
    {
     "data": {
      "text/plain": [
       "                                            headline        date stock  \\\n",
       "0  Sprucegrove Investment Management Ltd Buys Rya...  2020-05-15  ABEV   \n",
       "1  Westwood Global Investments, LLC Buys Ambev SA...  2020-05-14  ABEV   \n",
       "2  First Eagle Investment Management, LLC Buys Am...  2020-05-12  ABEV   \n",
       "3  Ambev Reports —…—… First Quarter Results Under...  2020-05-07  ABEV   \n",
       "4  5 Latin American Stocks to Consider in Honor o...  2020-05-05  ABEV   \n",
       "5  CORRECTION - Ambev's —…–9 Annual Report on For...  2020-04-15  ABEV   \n",
       "6  Thinking about buying stock in Ambev, Advanced...  2020-02-27  ABEV   \n",
       "7  Fairhaven Wealth Management, LLC Buys First Tr...  2020-02-07  ABEV   \n",
       "8  Investec Asset Management North America, Inc. ...  2020-02-07  ABEV   \n",
       "9  Alta Capital Management Llc Buys PerkinElmer I...  2020-01-30  ABEV   \n",
       "\n",
       "  adjusted_datetime  opening_price  closing_price  \\\n",
       "0        2020-05-15           2.02           2.02   \n",
       "1        2020-05-14           1.97           2.04   \n",
       "2        2020-05-12           2.11           2.02   \n",
       "3        2020-05-07           2.10           2.00   \n",
       "4        2020-05-05           2.18           2.15   \n",
       "5        2020-04-15           2.31           2.29   \n",
       "6        2020-02-27           3.17           3.25   \n",
       "7        2020-02-07           3.92           3.90   \n",
       "8        2020-02-07           3.92           3.90   \n",
       "9        2020-01-30           4.24           4.27   \n",
       "\n",
       "                                                bert  \\\n",
       "0  [0.2559071, 0.10364858, 0.37824497, -0.0081513...   \n",
       "1  [0.1890944, 0.014032838, 0.13237679, 0.0806400...   \n",
       "2  [0.086543754, 0.10937805, 0.28820986, 0.246597...   \n",
       "3  [-0.30589682, 0.17540877, 0.046134617, 0.03900...   \n",
       "4  [-0.40894422, -0.1794778, -0.28505862, 0.09229...   \n",
       "5  [-0.19625764, 0.067467004, 0.30294913, 0.02172...   \n",
       "6  [0.16650629, -0.07729488, 0.46726334, 0.101827...   \n",
       "7  [0.24698141, -0.37326866, 0.32759267, 0.288165...   \n",
       "8  [-0.15901707, -0.39555636, -0.014359138, 0.284...   \n",
       "9  [0.009920761, -0.16916458, 0.30622596, 0.43343...   \n",
       "\n",
       "                                             roberta  \\\n",
       "0  [-0.008698055, 0.047732446, -0.02077271, 0.043...   \n",
       "1  [0.012474053, 0.086053416, 0.037017934, 0.0866...   \n",
       "2  [0.018468218, 0.10328719, 0.036899947, 0.08108...   \n",
       "3  [0.046941273, 0.101946086, -0.021644266, 0.132...   \n",
       "4  [0.12876071, 0.20147394, 0.070045024, -0.10620...   \n",
       "5  [0.0044318372, 0.0933271, 0.025640752, 0.03964...   \n",
       "6  [0.028588777, 0.047011923, -0.036552325, 0.107...   \n",
       "7  [0.0056773126, 0.09306396, -0.04043027, 0.0089...   \n",
       "8  [0.027121706, 0.06587887, 0.026765367, 0.12634...   \n",
       "9  [0.07105354, 0.041213304, -0.036283303, 0.0822...   \n",
       "\n",
       "                                                auto sentiment_label  \\\n",
       "0  [-0.44617787, -1.0307866, 0.65105325, 0.131997...        NEGATIVE   \n",
       "1  [-0.4658743, -1.1817627, 0.5621838, 0.36915895...        POSITIVE   \n",
       "2  [-0.39889896, -1.0680475, 0.7733227, 0.1657631...        NEGATIVE   \n",
       "3  [-0.32791406, -0.91616255, 0.53547114, 0.04071...        NEGATIVE   \n",
       "4  [-0.1931915, -0.33910504, 0.7017856, 0.0992713...        POSITIVE   \n",
       "5  [-0.19258928, -0.84624475, 0.5516808, 0.031516...        NEGATIVE   \n",
       "6  [-0.3209373, -0.90578127, 0.8343287, 0.2536151...        POSITIVE   \n",
       "7  [-0.5195535, -0.9528065, 0.8224277, 0.14866994...        NEGATIVE   \n",
       "8  [-0.5821713, -0.71371293, 0.6212287, 0.3346102...        POSITIVE   \n",
       "9  [-0.5046917, -0.9496251, 0.7434372, 0.10432256...        NEGATIVE   \n",
       "\n",
       "   sentiment_score  \n",
       "0         0.809008  \n",
       "1         0.876715  \n",
       "2         0.952856  \n",
       "3         0.925539  \n",
       "4         0.998113  \n",
       "5         0.978848  \n",
       "6         0.505855  \n",
       "7         0.827918  \n",
       "8         0.880395  \n",
       "9         0.886313  "
      ],
      "text/html": [
       "<div>\n",
       "<style scoped>\n",
       "    .dataframe tbody tr th:only-of-type {\n",
       "        vertical-align: middle;\n",
       "    }\n",
       "\n",
       "    .dataframe tbody tr th {\n",
       "        vertical-align: top;\n",
       "    }\n",
       "\n",
       "    .dataframe thead th {\n",
       "        text-align: right;\n",
       "    }\n",
       "</style>\n",
       "<table border=\"1\" class=\"dataframe\">\n",
       "  <thead>\n",
       "    <tr style=\"text-align: right;\">\n",
       "      <th></th>\n",
       "      <th>headline</th>\n",
       "      <th>date</th>\n",
       "      <th>stock</th>\n",
       "      <th>adjusted_datetime</th>\n",
       "      <th>opening_price</th>\n",
       "      <th>closing_price</th>\n",
       "      <th>bert</th>\n",
       "      <th>roberta</th>\n",
       "      <th>auto</th>\n",
       "      <th>sentiment_label</th>\n",
       "      <th>sentiment_score</th>\n",
       "    </tr>\n",
       "  </thead>\n",
       "  <tbody>\n",
       "    <tr>\n",
       "      <th>0</th>\n",
       "      <td>Sprucegrove Investment Management Ltd Buys Rya...</td>\n",
       "      <td>2020-05-15</td>\n",
       "      <td>ABEV</td>\n",
       "      <td>2020-05-15</td>\n",
       "      <td>2.02</td>\n",
       "      <td>2.02</td>\n",
       "      <td>[0.2559071, 0.10364858, 0.37824497, -0.0081513...</td>\n",
       "      <td>[-0.008698055, 0.047732446, -0.02077271, 0.043...</td>\n",
       "      <td>[-0.44617787, -1.0307866, 0.65105325, 0.131997...</td>\n",
       "      <td>NEGATIVE</td>\n",
       "      <td>0.809008</td>\n",
       "    </tr>\n",
       "    <tr>\n",
       "      <th>1</th>\n",
       "      <td>Westwood Global Investments, LLC Buys Ambev SA...</td>\n",
       "      <td>2020-05-14</td>\n",
       "      <td>ABEV</td>\n",
       "      <td>2020-05-14</td>\n",
       "      <td>1.97</td>\n",
       "      <td>2.04</td>\n",
       "      <td>[0.1890944, 0.014032838, 0.13237679, 0.0806400...</td>\n",
       "      <td>[0.012474053, 0.086053416, 0.037017934, 0.0866...</td>\n",
       "      <td>[-0.4658743, -1.1817627, 0.5621838, 0.36915895...</td>\n",
       "      <td>POSITIVE</td>\n",
       "      <td>0.876715</td>\n",
       "    </tr>\n",
       "    <tr>\n",
       "      <th>2</th>\n",
       "      <td>First Eagle Investment Management, LLC Buys Am...</td>\n",
       "      <td>2020-05-12</td>\n",
       "      <td>ABEV</td>\n",
       "      <td>2020-05-12</td>\n",
       "      <td>2.11</td>\n",
       "      <td>2.02</td>\n",
       "      <td>[0.086543754, 0.10937805, 0.28820986, 0.246597...</td>\n",
       "      <td>[0.018468218, 0.10328719, 0.036899947, 0.08108...</td>\n",
       "      <td>[-0.39889896, -1.0680475, 0.7733227, 0.1657631...</td>\n",
       "      <td>NEGATIVE</td>\n",
       "      <td>0.952856</td>\n",
       "    </tr>\n",
       "    <tr>\n",
       "      <th>3</th>\n",
       "      <td>Ambev Reports —…—… First Quarter Results Under...</td>\n",
       "      <td>2020-05-07</td>\n",
       "      <td>ABEV</td>\n",
       "      <td>2020-05-07</td>\n",
       "      <td>2.10</td>\n",
       "      <td>2.00</td>\n",
       "      <td>[-0.30589682, 0.17540877, 0.046134617, 0.03900...</td>\n",
       "      <td>[0.046941273, 0.101946086, -0.021644266, 0.132...</td>\n",
       "      <td>[-0.32791406, -0.91616255, 0.53547114, 0.04071...</td>\n",
       "      <td>NEGATIVE</td>\n",
       "      <td>0.925539</td>\n",
       "    </tr>\n",
       "    <tr>\n",
       "      <th>4</th>\n",
       "      <td>5 Latin American Stocks to Consider in Honor o...</td>\n",
       "      <td>2020-05-05</td>\n",
       "      <td>ABEV</td>\n",
       "      <td>2020-05-05</td>\n",
       "      <td>2.18</td>\n",
       "      <td>2.15</td>\n",
       "      <td>[-0.40894422, -0.1794778, -0.28505862, 0.09229...</td>\n",
       "      <td>[0.12876071, 0.20147394, 0.070045024, -0.10620...</td>\n",
       "      <td>[-0.1931915, -0.33910504, 0.7017856, 0.0992713...</td>\n",
       "      <td>POSITIVE</td>\n",
       "      <td>0.998113</td>\n",
       "    </tr>\n",
       "    <tr>\n",
       "      <th>5</th>\n",
       "      <td>CORRECTION - Ambev's —…–9 Annual Report on For...</td>\n",
       "      <td>2020-04-15</td>\n",
       "      <td>ABEV</td>\n",
       "      <td>2020-04-15</td>\n",
       "      <td>2.31</td>\n",
       "      <td>2.29</td>\n",
       "      <td>[-0.19625764, 0.067467004, 0.30294913, 0.02172...</td>\n",
       "      <td>[0.0044318372, 0.0933271, 0.025640752, 0.03964...</td>\n",
       "      <td>[-0.19258928, -0.84624475, 0.5516808, 0.031516...</td>\n",
       "      <td>NEGATIVE</td>\n",
       "      <td>0.978848</td>\n",
       "    </tr>\n",
       "    <tr>\n",
       "      <th>6</th>\n",
       "      <td>Thinking about buying stock in Ambev, Advanced...</td>\n",
       "      <td>2020-02-27</td>\n",
       "      <td>ABEV</td>\n",
       "      <td>2020-02-27</td>\n",
       "      <td>3.17</td>\n",
       "      <td>3.25</td>\n",
       "      <td>[0.16650629, -0.07729488, 0.46726334, 0.101827...</td>\n",
       "      <td>[0.028588777, 0.047011923, -0.036552325, 0.107...</td>\n",
       "      <td>[-0.3209373, -0.90578127, 0.8343287, 0.2536151...</td>\n",
       "      <td>POSITIVE</td>\n",
       "      <td>0.505855</td>\n",
       "    </tr>\n",
       "    <tr>\n",
       "      <th>7</th>\n",
       "      <td>Fairhaven Wealth Management, LLC Buys First Tr...</td>\n",
       "      <td>2020-02-07</td>\n",
       "      <td>ABEV</td>\n",
       "      <td>2020-02-07</td>\n",
       "      <td>3.92</td>\n",
       "      <td>3.90</td>\n",
       "      <td>[0.24698141, -0.37326866, 0.32759267, 0.288165...</td>\n",
       "      <td>[0.0056773126, 0.09306396, -0.04043027, 0.0089...</td>\n",
       "      <td>[-0.5195535, -0.9528065, 0.8224277, 0.14866994...</td>\n",
       "      <td>NEGATIVE</td>\n",
       "      <td>0.827918</td>\n",
       "    </tr>\n",
       "    <tr>\n",
       "      <th>8</th>\n",
       "      <td>Investec Asset Management North America, Inc. ...</td>\n",
       "      <td>2020-02-07</td>\n",
       "      <td>ABEV</td>\n",
       "      <td>2020-02-07</td>\n",
       "      <td>3.92</td>\n",
       "      <td>3.90</td>\n",
       "      <td>[-0.15901707, -0.39555636, -0.014359138, 0.284...</td>\n",
       "      <td>[0.027121706, 0.06587887, 0.026765367, 0.12634...</td>\n",
       "      <td>[-0.5821713, -0.71371293, 0.6212287, 0.3346102...</td>\n",
       "      <td>POSITIVE</td>\n",
       "      <td>0.880395</td>\n",
       "    </tr>\n",
       "    <tr>\n",
       "      <th>9</th>\n",
       "      <td>Alta Capital Management Llc Buys PerkinElmer I...</td>\n",
       "      <td>2020-01-30</td>\n",
       "      <td>ABEV</td>\n",
       "      <td>2020-01-30</td>\n",
       "      <td>4.24</td>\n",
       "      <td>4.27</td>\n",
       "      <td>[0.009920761, -0.16916458, 0.30622596, 0.43343...</td>\n",
       "      <td>[0.07105354, 0.041213304, -0.036283303, 0.0822...</td>\n",
       "      <td>[-0.5046917, -0.9496251, 0.7434372, 0.10432256...</td>\n",
       "      <td>NEGATIVE</td>\n",
       "      <td>0.886313</td>\n",
       "    </tr>\n",
       "  </tbody>\n",
       "</table>\n",
       "</div>"
      ]
     },
     "execution_count": 56,
     "metadata": {},
     "output_type": "execute_result"
    }
   ],
   "execution_count": 56
  },
  {
   "metadata": {
    "ExecuteTime": {
     "end_time": "2024-07-30T10:11:57.678775Z",
     "start_time": "2024-07-30T10:11:57.662078Z"
    }
   },
   "cell_type": "code",
   "source": "type(df_read['bert'][0])",
   "id": "b59ea52361a864ac",
   "outputs": [
    {
     "data": {
      "text/plain": [
       "list"
      ]
     },
     "execution_count": 57,
     "metadata": {},
     "output_type": "execute_result"
    }
   ],
   "execution_count": 57
  },
  {
   "metadata": {},
   "cell_type": "code",
   "outputs": [],
   "execution_count": null,
   "source": "",
   "id": "a3b8fa9aa88c9b27"
  }
 ],
 "metadata": {
  "kernelspec": {
   "display_name": "Python 3",
   "language": "python",
   "name": "python3"
  },
  "language_info": {
   "codemirror_mode": {
    "name": "ipython",
    "version": 2
   },
   "file_extension": ".py",
   "mimetype": "text/x-python",
   "name": "python",
   "nbconvert_exporter": "python",
   "pygments_lexer": "ipython2",
   "version": "2.7.6"
  }
 },
 "nbformat": 4,
 "nbformat_minor": 5
}
