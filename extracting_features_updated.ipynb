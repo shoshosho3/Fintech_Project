{
 "cells": [
  {
   "metadata": {
    "ExecuteTime": {
     "end_time": "2024-08-06T15:36:27.124652Z",
     "start_time": "2024-08-06T15:36:24.583186Z"
    }
   },
   "cell_type": "code",
   "source": [
    "import pandas as pd\n",
    "import numpy as np\n",
    "from transformers import BertTokenizer, BertModel, RobertaTokenizer, RobertaModel, AutoTokenizer, AutoModel, pipeline\n",
    "import torch\n",
    "from tqdm import tqdm\n",
    "import re\n",
    "import math\n",
    "tqdm.pandas()"
   ],
   "id": "91748062e129957a",
   "outputs": [],
   "execution_count": 11
  },
  {
   "metadata": {
    "ExecuteTime": {
     "end_time": "2024-08-06T15:36:45.970288Z",
     "start_time": "2024-08-06T15:36:28.372979Z"
    }
   },
   "cell_type": "code",
   "source": [
    "# Load the data from data.xlsx\n",
    "data = pd.read_excel('final_data.xlsx')\n",
    "\n",
    "# getting the 'headline' column\n",
    "headlines = data['headline']"
   ],
   "id": "7feadb38f15dc6c5",
   "outputs": [],
   "execution_count": 12
  },
  {
   "metadata": {
    "ExecuteTime": {
     "end_time": "2024-08-06T15:36:51.439797Z",
     "start_time": "2024-08-06T15:36:48.805414Z"
    }
   },
   "cell_type": "code",
   "source": [
    "bert_tokenizer = BertTokenizer.from_pretrained('bert-base-uncased')\n",
    "bert_model = BertModel.from_pretrained('bert-base-uncased')\n",
    "\n",
    "roberta_tokenizer = RobertaTokenizer.from_pretrained('roberta-base')\n",
    "roberta_model = RobertaModel.from_pretrained('roberta-base')\n",
    "\n",
    "auto_tokenizer = AutoTokenizer.from_pretrained(\"chrommium/bert-base-multilingual-cased-finetuned-news-headlines\")\n",
    "auto_model = AutoModel.from_pretrained(\"chrommium/bert-base-multilingual-cased-finetuned-news-headlines\")"
   ],
   "id": "5e6fa4c401e41e33",
   "outputs": [
    {
     "name": "stderr",
     "output_type": "stream",
     "text": [
      "A parameter name that contains `beta` will be renamed internally to `bias`. Please use a different name to suppress this warning.\n",
      "A parameter name that contains `gamma` will be renamed internally to `weight`. Please use a different name to suppress this warning.\n",
      "A parameter name that contains `beta` will be renamed internally to `bias`. Please use a different name to suppress this warning.\n",
      "A parameter name that contains `gamma` will be renamed internally to `weight`. Please use a different name to suppress this warning.\n",
      "A parameter name that contains `beta` will be renamed internally to `bias`. Please use a different name to suppress this warning.\n",
      "A parameter name that contains `gamma` will be renamed internally to `weight`. Please use a different name to suppress this warning.\n",
      "A parameter name that contains `beta` will be renamed internally to `bias`. Please use a different name to suppress this warning.\n",
      "A parameter name that contains `gamma` will be renamed internally to `weight`. Please use a different name to suppress this warning.\n",
      "A parameter name that contains `beta` will be renamed internally to `bias`. Please use a different name to suppress this warning.\n",
      "A parameter name that contains `gamma` will be renamed internally to `weight`. Please use a different name to suppress this warning.\n",
      "A parameter name that contains `beta` will be renamed internally to `bias`. Please use a different name to suppress this warning.\n",
      "A parameter name that contains `gamma` will be renamed internally to `weight`. Please use a different name to suppress this warning.\n",
      "A parameter name that contains `beta` will be renamed internally to `bias`. Please use a different name to suppress this warning.\n",
      "A parameter name that contains `gamma` will be renamed internally to `weight`. Please use a different name to suppress this warning.\n",
      "A parameter name that contains `beta` will be renamed internally to `bias`. Please use a different name to suppress this warning.\n",
      "A parameter name that contains `gamma` will be renamed internally to `weight`. Please use a different name to suppress this warning.\n",
      "A parameter name that contains `beta` will be renamed internally to `bias`. Please use a different name to suppress this warning.\n",
      "A parameter name that contains `gamma` will be renamed internally to `weight`. Please use a different name to suppress this warning.\n",
      "A parameter name that contains `beta` will be renamed internally to `bias`. Please use a different name to suppress this warning.\n",
      "A parameter name that contains `gamma` will be renamed internally to `weight`. Please use a different name to suppress this warning.\n",
      "A parameter name that contains `beta` will be renamed internally to `bias`. Please use a different name to suppress this warning.\n",
      "A parameter name that contains `gamma` will be renamed internally to `weight`. Please use a different name to suppress this warning.\n",
      "A parameter name that contains `beta` will be renamed internally to `bias`. Please use a different name to suppress this warning.\n",
      "A parameter name that contains `gamma` will be renamed internally to `weight`. Please use a different name to suppress this warning.\n",
      "A parameter name that contains `beta` will be renamed internally to `bias`. Please use a different name to suppress this warning.\n",
      "A parameter name that contains `gamma` will be renamed internally to `weight`. Please use a different name to suppress this warning.\n",
      "A parameter name that contains `beta` will be renamed internally to `bias`. Please use a different name to suppress this warning.\n",
      "A parameter name that contains `gamma` will be renamed internally to `weight`. Please use a different name to suppress this warning.\n",
      "A parameter name that contains `beta` will be renamed internally to `bias`. Please use a different name to suppress this warning.\n",
      "A parameter name that contains `gamma` will be renamed internally to `weight`. Please use a different name to suppress this warning.\n",
      "A parameter name that contains `beta` will be renamed internally to `bias`. Please use a different name to suppress this warning.\n",
      "A parameter name that contains `gamma` will be renamed internally to `weight`. Please use a different name to suppress this warning.\n",
      "A parameter name that contains `beta` will be renamed internally to `bias`. Please use a different name to suppress this warning.\n",
      "A parameter name that contains `gamma` will be renamed internally to `weight`. Please use a different name to suppress this warning.\n",
      "A parameter name that contains `beta` will be renamed internally to `bias`. Please use a different name to suppress this warning.\n",
      "A parameter name that contains `gamma` will be renamed internally to `weight`. Please use a different name to suppress this warning.\n",
      "A parameter name that contains `beta` will be renamed internally to `bias`. Please use a different name to suppress this warning.\n",
      "A parameter name that contains `gamma` will be renamed internally to `weight`. Please use a different name to suppress this warning.\n",
      "A parameter name that contains `beta` will be renamed internally to `bias`. Please use a different name to suppress this warning.\n",
      "A parameter name that contains `gamma` will be renamed internally to `weight`. Please use a different name to suppress this warning.\n",
      "A parameter name that contains `beta` will be renamed internally to `bias`. Please use a different name to suppress this warning.\n",
      "A parameter name that contains `gamma` will be renamed internally to `weight`. Please use a different name to suppress this warning.\n",
      "A parameter name that contains `beta` will be renamed internally to `bias`. Please use a different name to suppress this warning.\n",
      "A parameter name that contains `gamma` will be renamed internally to `weight`. Please use a different name to suppress this warning.\n",
      "A parameter name that contains `beta` will be renamed internally to `bias`. Please use a different name to suppress this warning.\n",
      "A parameter name that contains `gamma` will be renamed internally to `weight`. Please use a different name to suppress this warning.\n",
      "A parameter name that contains `beta` will be renamed internally to `bias`. Please use a different name to suppress this warning.\n",
      "A parameter name that contains `gamma` will be renamed internally to `weight`. Please use a different name to suppress this warning.\n",
      "A parameter name that contains `beta` will be renamed internally to `bias`. Please use a different name to suppress this warning.\n",
      "A parameter name that contains `gamma` will be renamed internally to `weight`. Please use a different name to suppress this warning.\n",
      "A parameter name that contains `beta` will be renamed internally to `bias`. Please use a different name to suppress this warning.\n",
      "A parameter name that contains `gamma` will be renamed internally to `weight`. Please use a different name to suppress this warning.\n",
      "Some weights of RobertaModel were not initialized from the model checkpoint at roberta-base and are newly initialized: ['roberta.pooler.dense.bias', 'roberta.pooler.dense.weight']\n",
      "You should probably TRAIN this model on a down-stream task to be able to use it for predictions and inference.\n"
     ]
    }
   ],
   "execution_count": 13
  },
  {
   "metadata": {
    "ExecuteTime": {
     "end_time": "2024-08-06T15:36:58.310279Z",
     "start_time": "2024-08-06T15:36:52.261390Z"
    }
   },
   "cell_type": "code",
   "source": [
    "device = torch.device('mps')\n",
    "bert_model = bert_model.to(device)\n",
    "model_roberta = roberta_model.to(device)\n",
    "auto_model = auto_model.to(device)"
   ],
   "id": "62766ffdb66fc95f",
   "outputs": [],
   "execution_count": 14
  },
  {
   "metadata": {
    "ExecuteTime": {
     "end_time": "2024-08-06T15:37:01.346119Z",
     "start_time": "2024-08-06T15:37:01.343786Z"
    }
   },
   "cell_type": "code",
   "source": [
    "# setting embedding for empty headlines\n",
    "empty_bert_embedding = np.zeros((bert_model.config.hidden_size,))\n",
    "empty_roberta_embedding = np.zeros((roberta_model.config.hidden_size,))\n",
    "empty_auto_embedding = np.zeros((auto_model.config.hidden_size,))"
   ],
   "id": "c135331d1a8d0e14",
   "outputs": [],
   "execution_count": 15
  },
  {
   "metadata": {
    "ExecuteTime": {
     "end_time": "2024-08-06T15:37:56.427294Z",
     "start_time": "2024-08-06T15:37:56.419427Z"
    }
   },
   "cell_type": "code",
   "source": [
    "def get_embeddings(text, tokenizer, model, empty_embedding):\n",
    "    if type(text) == float and math.isnan(text):\n",
    "        return empty_embedding\n",
    "    inputs = tokenizer(text, return_tensors='pt', truncation=True, padding=True, max_length=50).to(device)\n",
    "    with torch.no_grad():\n",
    "        outputs = model(**inputs)\n",
    "    return outputs.last_hidden_state.mean(dim=1).cpu().numpy()"
   ],
   "id": "7b3876980c6e174d",
   "outputs": [],
   "execution_count": 18
  },
  {
   "metadata": {
    "ExecuteTime": {
     "end_time": "2024-08-06T09:56:00.829908Z",
     "start_time": "2024-08-06T08:30:02.080301Z"
    }
   },
   "cell_type": "code",
   "source": [
    "bert_embeddings = headlines.progress_apply(lambda x: get_embeddings(x, bert_tokenizer, bert_model, empty_bert_embedding))\n",
    "bert_embeddings_reshaped = np.vstack(bert_embeddings.values).reshape(bert_embeddings.shape[0], -1)\n",
    "bert_df = pd.DataFrame(bert_embeddings_reshaped, columns=[f'bert_{i}' for i in range(bert_embeddings_reshaped.shape[1])])\n",
    "\n",
    "roberta_embeddings = headlines.progress_apply(lambda x: get_embeddings(x, roberta_tokenizer, model_roberta, empty_roberta_embedding))\n",
    "roberta_embeddings_reshaped = np.vstack(roberta_embeddings.values).reshape(roberta_embeddings.shape[0], -1)\n",
    "roberta_df = pd.DataFrame(roberta_embeddings_reshaped, columns=[f'roberta_{i}' for i in range(roberta_embeddings_reshaped.shape[1])])\n",
    "\n",
    "auto_embeddings = headlines.progress_apply(lambda x: get_embeddings(x, auto_tokenizer, auto_model, empty_auto_embedding))\n",
    "auto_embeddings_reshaped = np.vstack(auto_embeddings.values).reshape(auto_embeddings.shape[0], -1)\n",
    "auto_df = pd.DataFrame(auto_embeddings_reshaped, columns=[f'auto_{i}' for i in range(auto_embeddings_reshaped.shape[1])])"
   ],
   "id": "53c6f4ee64909458",
   "outputs": [
    {
     "name": "stderr",
     "output_type": "stream",
     "text": [
      "100%|██████████| 541823/541823 [24:59<00:00, 361.38it/s]  \n",
      "100%|██████████| 541823/541823 [31:55<00:00, 282.80it/s]  \n",
      "100%|██████████| 541823/541823 [28:52<00:00, 312.79it/s]  \n"
     ]
    }
   ],
   "execution_count": 41
  },
  {
   "metadata": {
    "ExecuteTime": {
     "end_time": "2024-08-06T10:08:43.574101Z",
     "start_time": "2024-08-06T10:03:29.465694Z"
    }
   },
   "cell_type": "code",
   "source": [
    "bert_df.to_csv('final_bert_df.csv', index=False)\n",
    "roberta_df.to_csv('final_roberta_df.csv', index=False)\n",
    "auto_df.to_csv('final_auto_df.csv', index=False)"
   ],
   "id": "8c145fb21634751a",
   "outputs": [],
   "execution_count": 42
  },
  {
   "metadata": {
    "ExecuteTime": {
     "end_time": "2024-08-06T16:49:18.837250Z",
     "start_time": "2024-08-06T16:49:18.415021Z"
    }
   },
   "cell_type": "code",
   "source": [
    "import pandas as pd\n",
    "from tqdm import tqdm\n",
    "tqdm.pandas()"
   ],
   "id": "805a7267437b0f8e",
   "outputs": [],
   "execution_count": 2
  },
  {
   "metadata": {
    "ExecuteTime": {
     "end_time": "2024-08-06T15:58:33.194534Z",
     "start_time": "2024-08-06T15:57:27.947058Z"
    }
   },
   "cell_type": "code",
   "source": [
    "bert_df_read = pd.read_csv('final_bert_df.csv')\n",
    "roberta_df_read = pd.read_csv('final_roberta_df.csv')\n",
    "auto_df_read = pd.read_csv('final_auto_df.csv')"
   ],
   "id": "30a0afc35344c26f",
   "outputs": [],
   "execution_count": 2
  },
  {
   "metadata": {
    "ExecuteTime": {
     "end_time": "2024-08-06T16:52:14.013278Z",
     "start_time": "2024-08-06T16:50:42.436063Z"
    }
   },
   "cell_type": "code",
   "source": "auto_df_read['combined'] =  auto_df_read.progress_apply(lambda row: row.values.tolist(), axis=1)",
   "id": "96c1009df68d63d5",
   "outputs": [
    {
     "name": "stderr",
     "output_type": "stream",
     "text": [
      "100%|██████████| 541823/541823 [01:05<00:00, 34142.60it/s]IOStream.flush timed out\n",
      "100%|██████████| 541823/541823 [01:31<00:00, 5926.14it/s] \n"
     ]
    }
   ],
   "execution_count": 5
  },
  {
   "metadata": {
    "ExecuteTime": {
     "end_time": "2024-08-06T16:53:02.835179Z",
     "start_time": "2024-08-06T16:52:14.016819Z"
    }
   },
   "cell_type": "code",
   "source": "data = pd.read_csv('final_data_with_features.csv')",
   "id": "6bce32a7a5d8e91d",
   "outputs": [],
   "execution_count": 6
  },
  {
   "metadata": {
    "ExecuteTime": {
     "end_time": "2024-08-06T16:53:03.132453Z",
     "start_time": "2024-08-06T16:53:02.877719Z"
    }
   },
   "cell_type": "code",
   "source": "data['auto'] = auto_df_read['combined']",
   "id": "c3a340f86bdface4",
   "outputs": [],
   "execution_count": 7
  },
  {
   "metadata": {
    "ExecuteTime": {
     "end_time": "2024-08-06T16:55:14.953370Z",
     "start_time": "2024-08-06T16:53:03.133019Z"
    }
   },
   "cell_type": "code",
   "source": "data.to_csv('final_data_with_features.csv', index=False)",
   "id": "a04a4281af4ca15b",
   "outputs": [],
   "execution_count": 8
  },
  {
   "metadata": {
    "ExecuteTime": {
     "end_time": "2024-08-06T10:37:50.004055Z",
     "start_time": "2024-08-06T10:17:25.456210Z"
    }
   },
   "cell_type": "code",
   "source": [
    "# Sentiment analysis pipeline\n",
    "sentiment_pipeline = pipeline(\"sentiment-analysis\", device=device)\n",
    "\n",
    "\n",
    "def get_sentiment_score(text):\n",
    "    if type(text) == float and math.isnan(text):\n",
    "        return np.nan, np.nan\n",
    "    result = sentiment_pipeline(text)[0]\n",
    "    return result['label'], result['score']\n",
    "\n",
    "tqdm.pandas()\n",
    "data[['sentiment_label', 'sentiment_score']] = data['headline'].progress_apply(lambda x: pd.Series(get_sentiment_score(x)))"
   ],
   "id": "aafcdd4f4d4c3c8a",
   "outputs": [
    {
     "name": "stderr",
     "output_type": "stream",
     "text": [
      "No model was supplied, defaulted to distilbert/distilbert-base-uncased-finetuned-sst-2-english and revision af0f99b (https://huggingface.co/distilbert/distilbert-base-uncased-finetuned-sst-2-english).\n",
      "Using a pipeline without specifying a model name and revision in production is not recommended.\n",
      "100%|██████████| 541823/541823 [20:19<00:00, 444.30it/s]  \n"
     ]
    }
   ],
   "execution_count": 45
  },
  {
   "metadata": {
    "ExecuteTime": {
     "start_time": "2024-08-06T15:58:49.367117Z"
    }
   },
   "cell_type": "code",
   "source": [
    "bert_df_read['combined'] =  bert_df_read.progress_apply(lambda row: row.values.tolist(), axis=1)\n",
    "roberta_df_read['combined'] =  roberta_df_read.progress_apply(lambda row: row.values.tolist(), axis=1)\n",
    "auto_df_read['combined'] =  auto_df_read.progress_apply(lambda row: row.values.tolist(), axis=1)"
   ],
   "id": "eee9d0bae982e537",
   "outputs": [
    {
     "name": "stderr",
     "output_type": "stream",
     "text": [
      "100%|██████████| 541823/541823 [02:48<00:00, 17258.84it/s]IOStream.flush timed out\n",
      "100%|██████████| 541823/541823 [03:13<00:00, 2806.60it/s] \n",
      " 90%|████████▉ | 484932/541823 [07:40<01:24, 671.17it/s]  "
     ]
    }
   ],
   "execution_count": null
  },
  {
   "metadata": {
    "ExecuteTime": {
     "end_time": "2024-08-06T11:44:16.917345Z",
     "start_time": "2024-08-06T11:44:16.813884Z"
    }
   },
   "cell_type": "code",
   "source": [
    "data['bert'] = bert_df_read['combined']\n",
    "data['roberta'] = roberta_df_read['combined']\n",
    "data['auto'] = auto_df_read['combined']"
   ],
   "id": "2d3448f997e2ce18",
   "outputs": [],
   "execution_count": 49
  },
  {
   "metadata": {
    "ExecuteTime": {
     "end_time": "2024-08-06T11:45:07.360392Z",
     "start_time": "2024-08-06T11:44:54.959097Z"
    }
   },
   "cell_type": "code",
   "source": "data.to_csv('final_data_with_features.csv', index=False)",
   "id": "d7067751ec0a5807",
   "outputs": [],
   "execution_count": 50
  },
  {
   "metadata": {
    "ExecuteTime": {
     "end_time": "2024-08-06T19:49:21.193603Z",
     "start_time": "2024-08-06T19:49:21.151972Z"
    }
   },
   "cell_type": "code",
   "source": [
    "import pandas as pd\n",
    "import numpy as np"
   ],
   "id": "f7af194172798bbb",
   "outputs": [],
   "execution_count": 7
  },
  {
   "metadata": {
    "ExecuteTime": {
     "end_time": "2024-08-06T19:54:35.555777Z",
     "start_time": "2024-08-06T19:49:21.436812Z"
    }
   },
   "cell_type": "code",
   "source": [
    "def parse_combined_column(s):\n",
    "    if s == '':\n",
    "        return np.zeros(768)\n",
    "    return eval(s)\n",
    "\n",
    "df_read = pd.read_csv('final_data_with_features_2.csv', converters={'bert': parse_combined_column, 'auto': parse_combined_column, 'roberta': parse_combined_column})"
   ],
   "id": "ce54c3452b7b1514",
   "outputs": [],
   "execution_count": 8
  },
  {
   "metadata": {},
   "cell_type": "code",
   "source": "import math",
   "id": "e39be3e1bc9bdd28",
   "outputs": [],
   "execution_count": null
  },
  {
   "metadata": {
    "ExecuteTime": {
     "end_time": "2024-08-06T19:32:17.339766Z",
     "start_time": "2024-08-06T19:32:04.129785Z"
    }
   },
   "cell_type": "code",
   "source": "df_read.loc[df_read['headline'].apply(lambda x: isinstance(x, float)), 'bert'] = math.nan",
   "id": "9b1415c006dc275d",
   "outputs": [],
   "execution_count": 11
  },
  {
   "metadata": {
    "ExecuteTime": {
     "end_time": "2024-08-06T19:34:03.278046Z",
     "start_time": "2024-08-06T19:33:38.563967Z"
    }
   },
   "cell_type": "code",
   "source": [
    "df_read.loc[df_read['headline'].apply(lambda x: isinstance(x, float)), 'roberta'] = math.nan\n",
    "df_read.loc[df_read['headline'].apply(lambda x: isinstance(x, float)), 'auto'] = math.nan"
   ],
   "id": "afb54a86b7d78738",
   "outputs": [],
   "execution_count": 13
  },
  {
   "metadata": {
    "ExecuteTime": {
     "end_time": "2024-08-06T19:36:57.696304Z",
     "start_time": "2024-08-06T19:34:34.108815Z"
    }
   },
   "cell_type": "code",
   "source": "df_read.to_csv('final_data_with_features_2.csv', index=False)",
   "id": "b942aea6627c109f",
   "outputs": [],
   "execution_count": 14
  },
  {
   "metadata": {
    "ExecuteTime": {
     "end_time": "2024-08-06T17:21:14.299549Z",
     "start_time": "2024-08-06T17:21:14.284486Z"
    }
   },
   "cell_type": "code",
   "source": "df_read.head(10000)",
   "id": "34239acd3fa13",
   "outputs": [
    {
     "data": {
      "text/plain": [
       "        Open      Close stock        Date headline  \\\n",
       "0      0.000   0.882813    KR  1969-12-31      NaN   \n",
       "1      0.000   0.882813    KR  1970-01-02      NaN   \n",
       "2      0.000   0.890625    KR  1970-01-05      NaN   \n",
       "3      0.000   0.898438    KR  1970-01-06      NaN   \n",
       "4      0.000   0.882813    KR  1970-01-07      NaN   \n",
       "...      ...        ...   ...         ...      ...   \n",
       "9995  10.770  10.660000    KR  2009-08-06      NaN   \n",
       "9996  10.705  10.450000    KR  2009-08-07      NaN   \n",
       "9997  10.495  10.465000    KR  2009-08-10      NaN   \n",
       "9998  10.465  10.475000    KR  2009-08-11      NaN   \n",
       "9999  10.460  10.635000    KR  2009-08-12      NaN   \n",
       "\n",
       "                                                   bert  \\\n",
       "0     [0.0, 0.0, 0.0, 0.0, 0.0, 0.0, 0.0, 0.0, 0.0, ...   \n",
       "1     [0.0, 0.0, 0.0, 0.0, 0.0, 0.0, 0.0, 0.0, 0.0, ...   \n",
       "2     [0.0, 0.0, 0.0, 0.0, 0.0, 0.0, 0.0, 0.0, 0.0, ...   \n",
       "3     [0.0, 0.0, 0.0, 0.0, 0.0, 0.0, 0.0, 0.0, 0.0, ...   \n",
       "4     [0.0, 0.0, 0.0, 0.0, 0.0, 0.0, 0.0, 0.0, 0.0, ...   \n",
       "...                                                 ...   \n",
       "9995  [0.0, 0.0, 0.0, 0.0, 0.0, 0.0, 0.0, 0.0, 0.0, ...   \n",
       "9996  [0.0, 0.0, 0.0, 0.0, 0.0, 0.0, 0.0, 0.0, 0.0, ...   \n",
       "9997  [0.0, 0.0, 0.0, 0.0, 0.0, 0.0, 0.0, 0.0, 0.0, ...   \n",
       "9998  [0.0, 0.0, 0.0, 0.0, 0.0, 0.0, 0.0, 0.0, 0.0, ...   \n",
       "9999  [0.0, 0.0, 0.0, 0.0, 0.0, 0.0, 0.0, 0.0, 0.0, ...   \n",
       "\n",
       "                                                roberta  \\\n",
       "0     [0.0, 0.0, 0.0, 0.0, 0.0, 0.0, 0.0, 0.0, 0.0, ...   \n",
       "1     [0.0, 0.0, 0.0, 0.0, 0.0, 0.0, 0.0, 0.0, 0.0, ...   \n",
       "2     [0.0, 0.0, 0.0, 0.0, 0.0, 0.0, 0.0, 0.0, 0.0, ...   \n",
       "3     [0.0, 0.0, 0.0, 0.0, 0.0, 0.0, 0.0, 0.0, 0.0, ...   \n",
       "4     [0.0, 0.0, 0.0, 0.0, 0.0, 0.0, 0.0, 0.0, 0.0, ...   \n",
       "...                                                 ...   \n",
       "9995  [0.0, 0.0, 0.0, 0.0, 0.0, 0.0, 0.0, 0.0, 0.0, ...   \n",
       "9996  [0.0, 0.0, 0.0, 0.0, 0.0, 0.0, 0.0, 0.0, 0.0, ...   \n",
       "9997  [0.0, 0.0, 0.0, 0.0, 0.0, 0.0, 0.0, 0.0, 0.0, ...   \n",
       "9998  [0.0, 0.0, 0.0, 0.0, 0.0, 0.0, 0.0, 0.0, 0.0, ...   \n",
       "9999  [0.0, 0.0, 0.0, 0.0, 0.0, 0.0, 0.0, 0.0, 0.0, ...   \n",
       "\n",
       "                                                   auto sentiment_label  \\\n",
       "0     [0.0, 0.0, 0.0, 0.0, 0.0, 0.0, 0.0, 0.0, 0.0, ...             NaN   \n",
       "1     [0.0, 0.0, 0.0, 0.0, 0.0, 0.0, 0.0, 0.0, 0.0, ...             NaN   \n",
       "2     [0.0, 0.0, 0.0, 0.0, 0.0, 0.0, 0.0, 0.0, 0.0, ...             NaN   \n",
       "3     [0.0, 0.0, 0.0, 0.0, 0.0, 0.0, 0.0, 0.0, 0.0, ...             NaN   \n",
       "4     [0.0, 0.0, 0.0, 0.0, 0.0, 0.0, 0.0, 0.0, 0.0, ...             NaN   \n",
       "...                                                 ...             ...   \n",
       "9995  [0.0, 0.0, 0.0, 0.0, 0.0, 0.0, 0.0, 0.0, 0.0, ...             NaN   \n",
       "9996  [0.0, 0.0, 0.0, 0.0, 0.0, 0.0, 0.0, 0.0, 0.0, ...             NaN   \n",
       "9997  [0.0, 0.0, 0.0, 0.0, 0.0, 0.0, 0.0, 0.0, 0.0, ...             NaN   \n",
       "9998  [0.0, 0.0, 0.0, 0.0, 0.0, 0.0, 0.0, 0.0, 0.0, ...             NaN   \n",
       "9999  [0.0, 0.0, 0.0, 0.0, 0.0, 0.0, 0.0, 0.0, 0.0, ...             NaN   \n",
       "\n",
       "      sentiment_score  \n",
       "0                 NaN  \n",
       "1                 NaN  \n",
       "2                 NaN  \n",
       "3                 NaN  \n",
       "4                 NaN  \n",
       "...               ...  \n",
       "9995              NaN  \n",
       "9996              NaN  \n",
       "9997              NaN  \n",
       "9998              NaN  \n",
       "9999              NaN  \n",
       "\n",
       "[10000 rows x 10 columns]"
      ],
      "text/html": [
       "<div>\n",
       "<style scoped>\n",
       "    .dataframe tbody tr th:only-of-type {\n",
       "        vertical-align: middle;\n",
       "    }\n",
       "\n",
       "    .dataframe tbody tr th {\n",
       "        vertical-align: top;\n",
       "    }\n",
       "\n",
       "    .dataframe thead th {\n",
       "        text-align: right;\n",
       "    }\n",
       "</style>\n",
       "<table border=\"1\" class=\"dataframe\">\n",
       "  <thead>\n",
       "    <tr style=\"text-align: right;\">\n",
       "      <th></th>\n",
       "      <th>Open</th>\n",
       "      <th>Close</th>\n",
       "      <th>stock</th>\n",
       "      <th>Date</th>\n",
       "      <th>headline</th>\n",
       "      <th>bert</th>\n",
       "      <th>roberta</th>\n",
       "      <th>auto</th>\n",
       "      <th>sentiment_label</th>\n",
       "      <th>sentiment_score</th>\n",
       "    </tr>\n",
       "  </thead>\n",
       "  <tbody>\n",
       "    <tr>\n",
       "      <th>0</th>\n",
       "      <td>0.000</td>\n",
       "      <td>0.882813</td>\n",
       "      <td>KR</td>\n",
       "      <td>1969-12-31</td>\n",
       "      <td>NaN</td>\n",
       "      <td>[0.0, 0.0, 0.0, 0.0, 0.0, 0.0, 0.0, 0.0, 0.0, ...</td>\n",
       "      <td>[0.0, 0.0, 0.0, 0.0, 0.0, 0.0, 0.0, 0.0, 0.0, ...</td>\n",
       "      <td>[0.0, 0.0, 0.0, 0.0, 0.0, 0.0, 0.0, 0.0, 0.0, ...</td>\n",
       "      <td>NaN</td>\n",
       "      <td>NaN</td>\n",
       "    </tr>\n",
       "    <tr>\n",
       "      <th>1</th>\n",
       "      <td>0.000</td>\n",
       "      <td>0.882813</td>\n",
       "      <td>KR</td>\n",
       "      <td>1970-01-02</td>\n",
       "      <td>NaN</td>\n",
       "      <td>[0.0, 0.0, 0.0, 0.0, 0.0, 0.0, 0.0, 0.0, 0.0, ...</td>\n",
       "      <td>[0.0, 0.0, 0.0, 0.0, 0.0, 0.0, 0.0, 0.0, 0.0, ...</td>\n",
       "      <td>[0.0, 0.0, 0.0, 0.0, 0.0, 0.0, 0.0, 0.0, 0.0, ...</td>\n",
       "      <td>NaN</td>\n",
       "      <td>NaN</td>\n",
       "    </tr>\n",
       "    <tr>\n",
       "      <th>2</th>\n",
       "      <td>0.000</td>\n",
       "      <td>0.890625</td>\n",
       "      <td>KR</td>\n",
       "      <td>1970-01-05</td>\n",
       "      <td>NaN</td>\n",
       "      <td>[0.0, 0.0, 0.0, 0.0, 0.0, 0.0, 0.0, 0.0, 0.0, ...</td>\n",
       "      <td>[0.0, 0.0, 0.0, 0.0, 0.0, 0.0, 0.0, 0.0, 0.0, ...</td>\n",
       "      <td>[0.0, 0.0, 0.0, 0.0, 0.0, 0.0, 0.0, 0.0, 0.0, ...</td>\n",
       "      <td>NaN</td>\n",
       "      <td>NaN</td>\n",
       "    </tr>\n",
       "    <tr>\n",
       "      <th>3</th>\n",
       "      <td>0.000</td>\n",
       "      <td>0.898438</td>\n",
       "      <td>KR</td>\n",
       "      <td>1970-01-06</td>\n",
       "      <td>NaN</td>\n",
       "      <td>[0.0, 0.0, 0.0, 0.0, 0.0, 0.0, 0.0, 0.0, 0.0, ...</td>\n",
       "      <td>[0.0, 0.0, 0.0, 0.0, 0.0, 0.0, 0.0, 0.0, 0.0, ...</td>\n",
       "      <td>[0.0, 0.0, 0.0, 0.0, 0.0, 0.0, 0.0, 0.0, 0.0, ...</td>\n",
       "      <td>NaN</td>\n",
       "      <td>NaN</td>\n",
       "    </tr>\n",
       "    <tr>\n",
       "      <th>4</th>\n",
       "      <td>0.000</td>\n",
       "      <td>0.882813</td>\n",
       "      <td>KR</td>\n",
       "      <td>1970-01-07</td>\n",
       "      <td>NaN</td>\n",
       "      <td>[0.0, 0.0, 0.0, 0.0, 0.0, 0.0, 0.0, 0.0, 0.0, ...</td>\n",
       "      <td>[0.0, 0.0, 0.0, 0.0, 0.0, 0.0, 0.0, 0.0, 0.0, ...</td>\n",
       "      <td>[0.0, 0.0, 0.0, 0.0, 0.0, 0.0, 0.0, 0.0, 0.0, ...</td>\n",
       "      <td>NaN</td>\n",
       "      <td>NaN</td>\n",
       "    </tr>\n",
       "    <tr>\n",
       "      <th>...</th>\n",
       "      <td>...</td>\n",
       "      <td>...</td>\n",
       "      <td>...</td>\n",
       "      <td>...</td>\n",
       "      <td>...</td>\n",
       "      <td>...</td>\n",
       "      <td>...</td>\n",
       "      <td>...</td>\n",
       "      <td>...</td>\n",
       "      <td>...</td>\n",
       "    </tr>\n",
       "    <tr>\n",
       "      <th>9995</th>\n",
       "      <td>10.770</td>\n",
       "      <td>10.660000</td>\n",
       "      <td>KR</td>\n",
       "      <td>2009-08-06</td>\n",
       "      <td>NaN</td>\n",
       "      <td>[0.0, 0.0, 0.0, 0.0, 0.0, 0.0, 0.0, 0.0, 0.0, ...</td>\n",
       "      <td>[0.0, 0.0, 0.0, 0.0, 0.0, 0.0, 0.0, 0.0, 0.0, ...</td>\n",
       "      <td>[0.0, 0.0, 0.0, 0.0, 0.0, 0.0, 0.0, 0.0, 0.0, ...</td>\n",
       "      <td>NaN</td>\n",
       "      <td>NaN</td>\n",
       "    </tr>\n",
       "    <tr>\n",
       "      <th>9996</th>\n",
       "      <td>10.705</td>\n",
       "      <td>10.450000</td>\n",
       "      <td>KR</td>\n",
       "      <td>2009-08-07</td>\n",
       "      <td>NaN</td>\n",
       "      <td>[0.0, 0.0, 0.0, 0.0, 0.0, 0.0, 0.0, 0.0, 0.0, ...</td>\n",
       "      <td>[0.0, 0.0, 0.0, 0.0, 0.0, 0.0, 0.0, 0.0, 0.0, ...</td>\n",
       "      <td>[0.0, 0.0, 0.0, 0.0, 0.0, 0.0, 0.0, 0.0, 0.0, ...</td>\n",
       "      <td>NaN</td>\n",
       "      <td>NaN</td>\n",
       "    </tr>\n",
       "    <tr>\n",
       "      <th>9997</th>\n",
       "      <td>10.495</td>\n",
       "      <td>10.465000</td>\n",
       "      <td>KR</td>\n",
       "      <td>2009-08-10</td>\n",
       "      <td>NaN</td>\n",
       "      <td>[0.0, 0.0, 0.0, 0.0, 0.0, 0.0, 0.0, 0.0, 0.0, ...</td>\n",
       "      <td>[0.0, 0.0, 0.0, 0.0, 0.0, 0.0, 0.0, 0.0, 0.0, ...</td>\n",
       "      <td>[0.0, 0.0, 0.0, 0.0, 0.0, 0.0, 0.0, 0.0, 0.0, ...</td>\n",
       "      <td>NaN</td>\n",
       "      <td>NaN</td>\n",
       "    </tr>\n",
       "    <tr>\n",
       "      <th>9998</th>\n",
       "      <td>10.465</td>\n",
       "      <td>10.475000</td>\n",
       "      <td>KR</td>\n",
       "      <td>2009-08-11</td>\n",
       "      <td>NaN</td>\n",
       "      <td>[0.0, 0.0, 0.0, 0.0, 0.0, 0.0, 0.0, 0.0, 0.0, ...</td>\n",
       "      <td>[0.0, 0.0, 0.0, 0.0, 0.0, 0.0, 0.0, 0.0, 0.0, ...</td>\n",
       "      <td>[0.0, 0.0, 0.0, 0.0, 0.0, 0.0, 0.0, 0.0, 0.0, ...</td>\n",
       "      <td>NaN</td>\n",
       "      <td>NaN</td>\n",
       "    </tr>\n",
       "    <tr>\n",
       "      <th>9999</th>\n",
       "      <td>10.460</td>\n",
       "      <td>10.635000</td>\n",
       "      <td>KR</td>\n",
       "      <td>2009-08-12</td>\n",
       "      <td>NaN</td>\n",
       "      <td>[0.0, 0.0, 0.0, 0.0, 0.0, 0.0, 0.0, 0.0, 0.0, ...</td>\n",
       "      <td>[0.0, 0.0, 0.0, 0.0, 0.0, 0.0, 0.0, 0.0, 0.0, ...</td>\n",
       "      <td>[0.0, 0.0, 0.0, 0.0, 0.0, 0.0, 0.0, 0.0, 0.0, ...</td>\n",
       "      <td>NaN</td>\n",
       "      <td>NaN</td>\n",
       "    </tr>\n",
       "  </tbody>\n",
       "</table>\n",
       "<p>10000 rows × 10 columns</p>\n",
       "</div>"
      ]
     },
     "execution_count": 6,
     "metadata": {},
     "output_type": "execute_result"
    }
   ],
   "execution_count": 6
  },
  {
   "metadata": {
    "ExecuteTime": {
     "end_time": "2024-08-06T15:25:43.273645Z",
     "start_time": "2024-08-06T15:25:43.265934Z"
    }
   },
   "cell_type": "code",
   "source": "type(df_read['bert'][0])",
   "id": "b59ea52361a864ac",
   "outputs": [
    {
     "data": {
      "text/plain": [
       "list"
      ]
     },
     "execution_count": 5,
     "metadata": {},
     "output_type": "execute_result"
    }
   ],
   "execution_count": 5
  },
  {
   "metadata": {},
   "cell_type": "code",
   "outputs": [],
   "execution_count": null,
   "source": "",
   "id": "a3b8fa9aa88c9b27"
  }
 ],
 "metadata": {
  "kernelspec": {
   "display_name": "Python 3",
   "language": "python",
   "name": "python3"
  },
  "language_info": {
   "codemirror_mode": {
    "name": "ipython",
    "version": 2
   },
   "file_extension": ".py",
   "mimetype": "text/x-python",
   "name": "python",
   "nbconvert_exporter": "python",
   "pygments_lexer": "ipython2",
   "version": "2.7.6"
  }
 },
 "nbformat": 4,
 "nbformat_minor": 5
}
