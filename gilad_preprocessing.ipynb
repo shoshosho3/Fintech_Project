{
 "cells": [
  {
   "cell_type": "markdown",
   "metadata": {},
   "source": [
    "### Reading data"
   ]
  },
  {
   "cell_type": "code",
   "execution_count": null,
   "metadata": {},
   "outputs": [],
   "source": [
    "import pandas as pd\n",
    "import numpy as np\n",
    "import ast\n",
    "\n",
    "def parse_combined_column(s):\n",
    "    if s == '':\n",
    "        return np.zeros(768)\n",
    "    else:\n",
    "        return np.array(eval(s))\n",
    "    \n",
    "\n",
    "df = pd.read_csv('final_data_with_features_2.csv', converters={\n",
    "    'bert': parse_combined_column,\n",
    "    'auto': parse_combined_column,\n",
    "    'roberta': parse_combined_column\n",
    "})"
   ]
  },
  {
   "cell_type": "markdown",
   "metadata": {},
   "source": [
    "### Filter out non-relevant dates"
   ]
  },
  {
   "cell_type": "code",
   "execution_count": null,
   "metadata": {},
   "outputs": [],
   "source": [
    "# Function to filter rows based on first non-NaN headline\n",
    "def filter_after_first_non_nan(group):\n",
    "    first_non_nan_index = group['headline'].first_valid_index()\n",
    "    if first_non_nan_index is not None:\n",
    "        return group.loc[first_non_nan_index:]\n",
    "    else:\n",
    "        return pd.DataFrame(columns=group.columns)\n",
    "\n",
    "# Apply the function to each group\n",
    "filtered_df = df.groupby('stock').apply(filter_after_first_non_nan).reset_index(drop=True)\n",
    "\n",
    "print(filtered_df)"
   ]
  },
  {
   "cell_type": "markdown",
   "metadata": {},
   "source": [
    "### Making final data"
   ]
  },
  {
   "cell_type": "code",
   "execution_count": null,
   "metadata": {},
   "outputs": [],
   "source": [
    "def change_sentiment_label(x):\n",
    "    if x == 'POSITIVE':\n",
    "        return 1\n",
    "    elif x == 'NEGATIVE':\n",
    "        return -1\n",
    "    else:\n",
    "        return 0\n",
    "\n",
    "def change_sentiment_score(x):\n",
    "    if -1<=x<=1 :\n",
    "        return x\n",
    "    else:\n",
    "        return 0\n",
    "    \n",
    "filtered_df['sentiment_label'] = filtered_df['sentiment_label'].apply(change_sentiment_label)\n",
    "filtered_df['sentiment_score'] = filtered_df['sentiment_score'].apply(change_sentiment_score)\n",
    "# set sentiment score to be the sentiment score times the sentiment label\n",
    "filtered_df['sentiment_score'] = filtered_df['sentiment_score'] * filtered_df['sentiment_label']"
   ]
  },
  {
   "cell_type": "code",
   "execution_count": null,
   "metadata": {},
   "outputs": [],
   "source": [
    "import pandas as pd\n",
    "\n",
    "# Assuming `filtered_df` is your DataFrame\n",
    "half_point = len(filtered_df) // 2\n",
    "\n",
    "# Split the DataFrame into two parts\n",
    "df_part1 = filtered_df.iloc[:half_point]\n",
    "df_part2 = filtered_df.iloc[half_point:]\n",
    "\n",
    "# Save each part to a separate CSV file\n",
    "df_part1.to_csv('filtered_df_part1.csv', index=False)\n",
    "df_part2.to_csv('filtered_df_part2.csv', index=False)"
   ]
  }
 ],
 "metadata": {
  "kernelspec": {
   "display_name": "project_ensembled_FA",
   "language": "python",
   "name": "python3"
  },
  "language_info": {
   "codemirror_mode": {
    "name": "ipython",
    "version": 3
   },
   "file_extension": ".py",
   "mimetype": "text/x-python",
   "name": "python",
   "nbconvert_exporter": "python",
   "pygments_lexer": "ipython3",
   "version": "3.12.3"
  }
 },
 "nbformat": 4,
 "nbformat_minor": 2
}
